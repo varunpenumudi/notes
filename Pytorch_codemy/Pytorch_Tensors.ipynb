{
  "metadata": {
    "kernelspec": {
      "language": "python",
      "display_name": "Python 3",
      "name": "python3"
    },
    "language_info": {
      "name": "python",
      "version": "3.10.14",
      "mimetype": "text/x-python",
      "codemirror_mode": {
        "name": "ipython",
        "version": 3
      },
      "pygments_lexer": "ipython3",
      "nbconvert_exporter": "python",
      "file_extension": ".py"
    },
    "kaggle": {
      "accelerator": "none",
      "dataSources": [],
      "dockerImageVersionId": 30786,
      "isInternetEnabled": true,
      "language": "python",
      "sourceType": "notebook",
      "isGpuEnabled": false
    },
    "colab": {
      "name": "Pytorch Tensors",
      "provenance": [],
      "include_colab_link": true
    }
  },
  "nbformat_minor": 0,
  "nbformat": 4,
  "cells": [
    {
      "cell_type": "markdown",
      "metadata": {
        "id": "view-in-github",
        "colab_type": "text"
      },
      "source": [
        "<a href=\"https://colab.research.google.com/github/varunpenumudi/notes/blob/master/Pytorch_codemy/Pytorch_Tensors.ipynb\" target=\"_parent\"><img src=\"https://colab.research.google.com/assets/colab-badge.svg\" alt=\"Open In Colab\"/></a>"
      ]
    },
    {
      "cell_type": "code",
      "source": [
        "import numpy as np # linear algebra\n",
        "import pandas as pd # data processing, CSV file I/O (e.g. pd.read_csv)"
      ],
      "metadata": {
        "_uuid": "8f2839f25d086af736a60e9eeb907d3b93b6e0e5",
        "_cell_guid": "b1076dfc-b9ad-4769-8c92-a6c4dae69d19",
        "trusted": true,
        "execution": {
          "iopub.status.busy": "2024-11-04T23:13:18.630291Z",
          "iopub.execute_input": "2024-11-04T23:13:18.63079Z",
          "iopub.status.idle": "2024-11-04T23:13:18.640121Z",
          "shell.execute_reply.started": "2024-11-04T23:13:18.630746Z",
          "shell.execute_reply": "2024-11-04T23:13:18.638112Z"
        },
        "id": "FoOQIMnDkL2L"
      },
      "outputs": [],
      "execution_count": 1
    },
    {
      "cell_type": "code",
      "source": [
        "np.random.rand(3, 4)\n",
        "np.zeros(3).dtype"
      ],
      "metadata": {
        "trusted": true,
        "execution": {
          "iopub.status.busy": "2024-11-04T23:13:18.642984Z",
          "iopub.execute_input": "2024-11-04T23:13:18.643516Z",
          "iopub.status.idle": "2024-11-04T23:13:18.663628Z",
          "shell.execute_reply.started": "2024-11-04T23:13:18.643446Z",
          "shell.execute_reply": "2024-11-04T23:13:18.661897Z"
        },
        "colab": {
          "base_uri": "https://localhost:8080/"
        },
        "id": "pLbtBcktkL2O",
        "outputId": "253da96a-cbf7-41e3-ceea-3d43da056987"
      },
      "outputs": [
        {
          "output_type": "execute_result",
          "data": {
            "text/plain": [
              "dtype('float64')"
            ]
          },
          "metadata": {},
          "execution_count": 2
        }
      ],
      "execution_count": 2
    },
    {
      "cell_type": "code",
      "source": [
        "import torch"
      ],
      "metadata": {
        "trusted": true,
        "execution": {
          "iopub.status.busy": "2024-11-04T23:13:18.665541Z",
          "iopub.execute_input": "2024-11-04T23:13:18.666087Z",
          "iopub.status.idle": "2024-11-04T23:13:18.673683Z",
          "shell.execute_reply.started": "2024-11-04T23:13:18.666024Z",
          "shell.execute_reply": "2024-11-04T23:13:18.672312Z"
        },
        "id": "Lo1yZxNzkL2Q"
      },
      "outputs": [],
      "execution_count": 3
    },
    {
      "cell_type": "markdown",
      "source": [
        "# Tensor\n",
        "- MultiDimensional Arrays\n",
        "- Little Bit More Powerful than numpy arrays\n",
        "- Suitable for GPU's"
      ],
      "metadata": {
        "id": "qjArhB0jkL2Q"
      }
    },
    {
      "cell_type": "code",
      "source": [
        "torch.randn(3, 4)"
      ],
      "metadata": {
        "trusted": true,
        "execution": {
          "iopub.status.busy": "2024-11-04T23:13:18.675283Z",
          "iopub.execute_input": "2024-11-04T23:13:18.675804Z",
          "iopub.status.idle": "2024-11-04T23:13:18.691587Z",
          "shell.execute_reply.started": "2024-11-04T23:13:18.675738Z",
          "shell.execute_reply": "2024-11-04T23:13:18.689796Z"
        },
        "colab": {
          "base_uri": "https://localhost:8080/"
        },
        "id": "Kd7rRj72kL2R",
        "outputId": "7b3b3e7e-b66a-4f09-b0dc-ebdfab0a216e"
      },
      "outputs": [
        {
          "output_type": "execute_result",
          "data": {
            "text/plain": [
              "tensor([[-0.5605,  0.3500,  0.2978, -1.2368],\n",
              "        [ 0.6572,  0.4685,  0.3688, -0.2006],\n",
              "        [-1.2895,  0.5473, -0.8969,  0.8785]])"
            ]
          },
          "metadata": {},
          "execution_count": 4
        }
      ],
      "execution_count": 4
    },
    {
      "cell_type": "code",
      "source": [
        "torch.ones(3, 4, 2)"
      ],
      "metadata": {
        "trusted": true,
        "execution": {
          "iopub.status.busy": "2024-11-04T23:13:18.695104Z",
          "iopub.execute_input": "2024-11-04T23:13:18.695579Z",
          "iopub.status.idle": "2024-11-04T23:13:18.706704Z",
          "shell.execute_reply.started": "2024-11-04T23:13:18.695528Z",
          "shell.execute_reply": "2024-11-04T23:13:18.70533Z"
        },
        "colab": {
          "base_uri": "https://localhost:8080/"
        },
        "id": "-mK7ieZkkL2S",
        "outputId": "f0d1e85c-b69c-4562-c047-d777e07b35c7"
      },
      "outputs": [
        {
          "output_type": "execute_result",
          "data": {
            "text/plain": [
              "tensor([[[1., 1.],\n",
              "         [1., 1.],\n",
              "         [1., 1.],\n",
              "         [1., 1.]],\n",
              "\n",
              "        [[1., 1.],\n",
              "         [1., 1.],\n",
              "         [1., 1.],\n",
              "         [1., 1.]],\n",
              "\n",
              "        [[1., 1.],\n",
              "         [1., 1.],\n",
              "         [1., 1.],\n",
              "         [1., 1.]]])"
            ]
          },
          "metadata": {},
          "execution_count": 5
        }
      ],
      "execution_count": 5
    },
    {
      "cell_type": "code",
      "source": [
        "torch.tensor([[1, 0], [0, 1]])"
      ],
      "metadata": {
        "trusted": true,
        "execution": {
          "iopub.status.busy": "2024-11-04T23:13:18.708515Z",
          "iopub.execute_input": "2024-11-04T23:13:18.708967Z",
          "iopub.status.idle": "2024-11-04T23:13:18.718763Z",
          "shell.execute_reply.started": "2024-11-04T23:13:18.708921Z",
          "shell.execute_reply": "2024-11-04T23:13:18.71736Z"
        },
        "colab": {
          "base_uri": "https://localhost:8080/"
        },
        "id": "gHJF9p27kL2T",
        "outputId": "b59a3843-e935-4fc5-bebd-d88d3856c115"
      },
      "outputs": [
        {
          "output_type": "execute_result",
          "data": {
            "text/plain": [
              "tensor([[1, 0],\n",
              "        [0, 1]])"
            ]
          },
          "metadata": {},
          "execution_count": 6
        }
      ],
      "execution_count": 6
    },
    {
      "cell_type": "code",
      "source": [
        "np1 = np.random.rand(4)\n",
        "print(np1)\n",
        "torch.tensor(np1)"
      ],
      "metadata": {
        "trusted": true,
        "execution": {
          "iopub.status.busy": "2024-11-04T23:13:18.720283Z",
          "iopub.execute_input": "2024-11-04T23:13:18.720933Z",
          "iopub.status.idle": "2024-11-04T23:13:18.733348Z",
          "shell.execute_reply.started": "2024-11-04T23:13:18.720883Z",
          "shell.execute_reply": "2024-11-04T23:13:18.732095Z"
        },
        "colab": {
          "base_uri": "https://localhost:8080/"
        },
        "id": "pgeH5vypkL2T",
        "outputId": "a6e1a27f-ff96-4656-e104-e4c4e8f24181"
      },
      "outputs": [
        {
          "output_type": "stream",
          "name": "stdout",
          "text": [
            "[0.76925315 0.01560535 0.45355679 0.03187684]\n"
          ]
        },
        {
          "output_type": "execute_result",
          "data": {
            "text/plain": [
              "tensor([0.7693, 0.0156, 0.4536, 0.0319], dtype=torch.float64)"
            ]
          },
          "metadata": {},
          "execution_count": 7
        }
      ],
      "execution_count": 7
    },
    {
      "cell_type": "code",
      "source": [
        "torch.tensor([0.0, 1.1, 2.2]).dtype"
      ],
      "metadata": {
        "trusted": true,
        "execution": {
          "iopub.status.busy": "2024-11-04T23:13:18.735588Z",
          "iopub.execute_input": "2024-11-04T23:13:18.736142Z",
          "iopub.status.idle": "2024-11-04T23:13:18.746167Z",
          "shell.execute_reply.started": "2024-11-04T23:13:18.736066Z",
          "shell.execute_reply": "2024-11-04T23:13:18.744881Z"
        },
        "colab": {
          "base_uri": "https://localhost:8080/"
        },
        "id": "sgb5JkSpkL2U",
        "outputId": "5f680f26-2484-4a00-b2a5-22fac678bd0e"
      },
      "outputs": [
        {
          "output_type": "execute_result",
          "data": {
            "text/plain": [
              "torch.float32"
            ]
          },
          "metadata": {},
          "execution_count": 8
        }
      ],
      "execution_count": 8
    },
    {
      "cell_type": "markdown",
      "source": [
        "# Reshape and slice"
      ],
      "metadata": {
        "id": "Ic4_GxKykL2U"
      }
    },
    {
      "cell_type": "markdown",
      "source": [
        "## Reshape\n",
        "\n",
        "Reshape the array into rows and cols size\n",
        "\n",
        "- `tensor.reshape(row, cols)`\n",
        "- `tensor.reshape(row, -1)` only rows\n",
        "- `tensor.reshape(-1, cols)` only cols"
      ],
      "metadata": {
        "id": "KDYF4LDvkL2U"
      }
    },
    {
      "cell_type": "code",
      "source": [
        "#tsr = torch.tensor(np.arange(10))\n",
        "tsr = torch.arange(10)\n",
        "tsr"
      ],
      "metadata": {
        "trusted": true,
        "execution": {
          "iopub.status.busy": "2024-11-04T23:13:18.747665Z",
          "iopub.execute_input": "2024-11-04T23:13:18.748114Z",
          "iopub.status.idle": "2024-11-04T23:13:18.759209Z",
          "shell.execute_reply.started": "2024-11-04T23:13:18.748065Z",
          "shell.execute_reply": "2024-11-04T23:13:18.757698Z"
        },
        "colab": {
          "base_uri": "https://localhost:8080/"
        },
        "id": "aGWlSwydkL2U",
        "outputId": "bbc16a18-918a-4e68-89d2-9229407bbe40"
      },
      "outputs": [
        {
          "output_type": "execute_result",
          "data": {
            "text/plain": [
              "tensor([0, 1, 2, 3, 4, 5, 6, 7, 8, 9])"
            ]
          },
          "metadata": {},
          "execution_count": 9
        }
      ],
      "execution_count": 9
    },
    {
      "cell_type": "code",
      "source": [
        "# reshape to 10*1\n",
        "tsr.reshape(10, -1)"
      ],
      "metadata": {
        "trusted": true,
        "execution": {
          "iopub.status.busy": "2024-11-04T23:13:18.760849Z",
          "iopub.execute_input": "2024-11-04T23:13:18.761254Z",
          "iopub.status.idle": "2024-11-04T23:13:18.774391Z",
          "shell.execute_reply.started": "2024-11-04T23:13:18.761212Z",
          "shell.execute_reply": "2024-11-04T23:13:18.773196Z"
        },
        "colab": {
          "base_uri": "https://localhost:8080/"
        },
        "id": "YgrHbEMAkL2V",
        "outputId": "c7253acb-4035-4ee8-a201-404c1024c61d"
      },
      "outputs": [
        {
          "output_type": "execute_result",
          "data": {
            "text/plain": [
              "tensor([[0],\n",
              "        [1],\n",
              "        [2],\n",
              "        [3],\n",
              "        [4],\n",
              "        [5],\n",
              "        [6],\n",
              "        [7],\n",
              "        [8],\n",
              "        [9]])"
            ]
          },
          "metadata": {},
          "execution_count": 10
        }
      ],
      "execution_count": 10
    },
    {
      "cell_type": "code",
      "source": [
        "tsr.reshape(5, -1) #reshape to 5 rows"
      ],
      "metadata": {
        "trusted": true,
        "execution": {
          "iopub.status.busy": "2024-11-04T23:13:18.776381Z",
          "iopub.execute_input": "2024-11-04T23:13:18.776826Z",
          "iopub.status.idle": "2024-11-04T23:13:18.788567Z",
          "shell.execute_reply.started": "2024-11-04T23:13:18.776785Z",
          "shell.execute_reply": "2024-11-04T23:13:18.787339Z"
        },
        "colab": {
          "base_uri": "https://localhost:8080/"
        },
        "id": "389sAdOPkL2V",
        "outputId": "cc7be11a-3c2b-4ea0-e683-5b40f05a2a0a"
      },
      "outputs": [
        {
          "output_type": "execute_result",
          "data": {
            "text/plain": [
              "tensor([[0, 1],\n",
              "        [2, 3],\n",
              "        [4, 5],\n",
              "        [6, 7],\n",
              "        [8, 9]])"
            ]
          },
          "metadata": {},
          "execution_count": 11
        }
      ],
      "execution_count": 11
    },
    {
      "cell_type": "code",
      "source": [
        "tsr.reshape(-1, 5) # reshape to 5 cols"
      ],
      "metadata": {
        "trusted": true,
        "execution": {
          "iopub.status.busy": "2024-11-04T23:13:18.790273Z",
          "iopub.execute_input": "2024-11-04T23:13:18.790709Z",
          "iopub.status.idle": "2024-11-04T23:13:18.800703Z",
          "shell.execute_reply.started": "2024-11-04T23:13:18.790668Z",
          "shell.execute_reply": "2024-11-04T23:13:18.799434Z"
        },
        "colab": {
          "base_uri": "https://localhost:8080/"
        },
        "id": "81CthmZskL2V",
        "outputId": "649187d2-776b-4f77-b658-e73ef05a9c0b"
      },
      "outputs": [
        {
          "output_type": "execute_result",
          "data": {
            "text/plain": [
              "tensor([[0, 1, 2, 3, 4],\n",
              "        [5, 6, 7, 8, 9]])"
            ]
          },
          "metadata": {},
          "execution_count": 12
        }
      ],
      "execution_count": 12
    },
    {
      "cell_type": "code",
      "source": [
        "tsr.reshape(2, 5)\n",
        "# cannot work\n",
        "# tsr.reshape(2, 6)"
      ],
      "metadata": {
        "trusted": true,
        "execution": {
          "iopub.status.busy": "2024-11-04T23:13:18.841661Z",
          "iopub.execute_input": "2024-11-04T23:13:18.842218Z",
          "iopub.status.idle": "2024-11-04T23:13:18.851694Z",
          "shell.execute_reply.started": "2024-11-04T23:13:18.842165Z",
          "shell.execute_reply": "2024-11-04T23:13:18.850342Z"
        },
        "colab": {
          "base_uri": "https://localhost:8080/"
        },
        "id": "halsOUpMkL2W",
        "outputId": "fc111697-e17e-48f1-f1dc-d26ddb228a3e"
      },
      "outputs": [
        {
          "output_type": "execute_result",
          "data": {
            "text/plain": [
              "tensor([[0, 1, 2, 3, 4],\n",
              "        [5, 6, 7, 8, 9]])"
            ]
          },
          "metadata": {},
          "execution_count": 13
        }
      ],
      "execution_count": 13
    },
    {
      "cell_type": "markdown",
      "source": [
        "## View\n",
        "- view is same as reshape"
      ],
      "metadata": {
        "id": "Es3tvXQKkL2W"
      }
    },
    {
      "cell_type": "code",
      "source": [
        "tsr.view(2, 5)"
      ],
      "metadata": {
        "trusted": true,
        "execution": {
          "iopub.status.busy": "2024-11-04T23:13:34.588388Z",
          "iopub.execute_input": "2024-11-04T23:13:34.589269Z",
          "iopub.status.idle": "2024-11-04T23:13:34.598349Z",
          "shell.execute_reply.started": "2024-11-04T23:13:34.589209Z",
          "shell.execute_reply": "2024-11-04T23:13:34.596927Z"
        },
        "colab": {
          "base_uri": "https://localhost:8080/"
        },
        "id": "N0EU9wcPkL2W",
        "outputId": "a9a0b216-dfd2-45fb-da17-f9d14bb8e781"
      },
      "outputs": [
        {
          "output_type": "execute_result",
          "data": {
            "text/plain": [
              "tensor([[0, 1, 2, 3, 4],\n",
              "        [5, 6, 7, 8, 9]])"
            ]
          },
          "metadata": {},
          "execution_count": 14
        }
      ],
      "execution_count": 14
    },
    {
      "cell_type": "markdown",
      "source": [
        "## Indexing and Slicing"
      ],
      "metadata": {
        "id": "22sEAJHPkL2W"
      }
    },
    {
      "cell_type": "code",
      "source": [
        "t1 = torch.rand(3, 5)\n",
        "t1"
      ],
      "metadata": {
        "trusted": true,
        "execution": {
          "iopub.status.busy": "2024-11-04T23:15:42.068454Z",
          "iopub.execute_input": "2024-11-04T23:15:42.068988Z",
          "iopub.status.idle": "2024-11-04T23:15:42.080365Z",
          "shell.execute_reply.started": "2024-11-04T23:15:42.068939Z",
          "shell.execute_reply": "2024-11-04T23:15:42.079014Z"
        },
        "colab": {
          "base_uri": "https://localhost:8080/"
        },
        "id": "URJqIT3ukL2W",
        "outputId": "ffbff716-1a67-420c-ab0c-84195e5787a7"
      },
      "outputs": [
        {
          "output_type": "execute_result",
          "data": {
            "text/plain": [
              "tensor([[0.0468, 0.4265, 0.9733, 0.4536, 0.3531],\n",
              "        [0.6586, 0.2995, 0.1959, 0.4661, 0.3824],\n",
              "        [0.5473, 0.0348, 0.2845, 0.2490, 0.7294]])"
            ]
          },
          "metadata": {},
          "execution_count": 15
        }
      ],
      "execution_count": 15
    },
    {
      "cell_type": "code",
      "source": [
        "t1[1:3] # second and thrid rows"
      ],
      "metadata": {
        "trusted": true,
        "execution": {
          "iopub.status.busy": "2024-11-04T23:15:56.758557Z",
          "iopub.execute_input": "2024-11-04T23:15:56.759023Z",
          "iopub.status.idle": "2024-11-04T23:15:56.769507Z",
          "shell.execute_reply.started": "2024-11-04T23:15:56.758976Z",
          "shell.execute_reply": "2024-11-04T23:15:56.768082Z"
        },
        "colab": {
          "base_uri": "https://localhost:8080/"
        },
        "id": "T73UK11vkL2X",
        "outputId": "62fd7be6-ded3-43a9-fc15-65f55fd5692c"
      },
      "outputs": [
        {
          "output_type": "execute_result",
          "data": {
            "text/plain": [
              "tensor([[0.6586, 0.2995, 0.1959, 0.4661, 0.3824],\n",
              "        [0.5473, 0.0348, 0.2845, 0.2490, 0.7294]])"
            ]
          },
          "metadata": {},
          "execution_count": 16
        }
      ],
      "execution_count": 16
    },
    {
      "cell_type": "code",
      "source": [
        "t1[:, 1] # second col in all rows"
      ],
      "metadata": {
        "trusted": true,
        "execution": {
          "iopub.status.busy": "2024-11-04T23:16:15.928505Z",
          "iopub.execute_input": "2024-11-04T23:16:15.928989Z",
          "iopub.status.idle": "2024-11-04T23:16:15.939177Z",
          "shell.execute_reply.started": "2024-11-04T23:16:15.928944Z",
          "shell.execute_reply": "2024-11-04T23:16:15.937616Z"
        },
        "colab": {
          "base_uri": "https://localhost:8080/"
        },
        "id": "WTxibpH0kL2X",
        "outputId": "641688a7-4dc1-4243-8def-d00b406efba0"
      },
      "outputs": [
        {
          "output_type": "execute_result",
          "data": {
            "text/plain": [
              "tensor([0.4265, 0.2995, 0.0348])"
            ]
          },
          "metadata": {},
          "execution_count": 17
        }
      ],
      "execution_count": 17
    },
    {
      "cell_type": "code",
      "source": [
        "t1[:, 1:2] # second col in all rows as rows*1 vector"
      ],
      "metadata": {
        "execution": {
          "iopub.status.busy": "2024-11-04T23:17:26.382623Z",
          "iopub.execute_input": "2024-11-04T23:17:26.383215Z",
          "iopub.status.idle": "2024-11-04T23:17:26.39475Z",
          "shell.execute_reply.started": "2024-11-04T23:17:26.383165Z",
          "shell.execute_reply": "2024-11-04T23:17:26.393318Z"
        },
        "trusted": true,
        "colab": {
          "base_uri": "https://localhost:8080/"
        },
        "id": "vDBGgZOxkL2X",
        "outputId": "93015886-b0fa-467c-9676-4dd3fda8743c"
      },
      "outputs": [
        {
          "output_type": "execute_result",
          "data": {
            "text/plain": [
              "tensor([[0.4265],\n",
              "        [0.2995],\n",
              "        [0.0348]])"
            ]
          },
          "metadata": {},
          "execution_count": 18
        }
      ],
      "execution_count": 18
    },
    {
      "cell_type": "code",
      "source": [
        "t1[1:3, 1:3]"
      ],
      "metadata": {
        "trusted": true,
        "execution": {
          "iopub.status.busy": "2024-11-04T23:17:56.859073Z",
          "iopub.execute_input": "2024-11-04T23:17:56.859616Z",
          "iopub.status.idle": "2024-11-04T23:17:56.87037Z",
          "shell.execute_reply.started": "2024-11-04T23:17:56.859568Z",
          "shell.execute_reply": "2024-11-04T23:17:56.868954Z"
        },
        "colab": {
          "base_uri": "https://localhost:8080/"
        },
        "id": "mBfC5-mikL2X",
        "outputId": "b6310d30-5d61-453d-c45e-e7f4d095a6c6"
      },
      "outputs": [
        {
          "output_type": "execute_result",
          "data": {
            "text/plain": [
              "tensor([[0.2995, 0.1959],\n",
              "        [0.0348, 0.2845]])"
            ]
          },
          "metadata": {},
          "execution_count": 19
        }
      ],
      "execution_count": 19
    },
    {
      "cell_type": "markdown",
      "source": [
        "# Tensor Math Operations\n",
        "- +,-,/,%,*\n",
        "- Reassignment"
      ],
      "metadata": {
        "id": "RjrRW9IKkL2X"
      }
    },
    {
      "cell_type": "code",
      "source": [
        "a = torch.tensor([1,2,3,4,5])\n",
        "b = torch.tensor([6,7,8,9,10])\n",
        "a+b"
      ],
      "metadata": {
        "trusted": true,
        "execution": {
          "iopub.status.busy": "2024-11-04T23:24:00.776798Z",
          "iopub.execute_input": "2024-11-04T23:24:00.777271Z",
          "iopub.status.idle": "2024-11-04T23:24:00.788746Z",
          "shell.execute_reply.started": "2024-11-04T23:24:00.777227Z",
          "shell.execute_reply": "2024-11-04T23:24:00.787302Z"
        },
        "colab": {
          "base_uri": "https://localhost:8080/"
        },
        "id": "_Do5lvMgkL2X",
        "outputId": "ac9dc9ac-a288-459f-900b-0fd0f47e2e78"
      },
      "outputs": [
        {
          "output_type": "execute_result",
          "data": {
            "text/plain": [
              "tensor([ 7,  9, 11, 13, 15])"
            ]
          },
          "metadata": {},
          "execution_count": 20
        }
      ],
      "execution_count": 20
    },
    {
      "cell_type": "code",
      "source": [
        "# addition\n",
        "r1 = a+b\n",
        "r2 = torch.add(a,b)\n",
        "print(r1, r2)"
      ],
      "metadata": {
        "trusted": true,
        "execution": {
          "iopub.status.busy": "2024-11-04T23:27:21.715701Z",
          "iopub.execute_input": "2024-11-04T23:27:21.716311Z",
          "iopub.status.idle": "2024-11-04T23:27:21.725147Z",
          "shell.execute_reply.started": "2024-11-04T23:27:21.716255Z",
          "shell.execute_reply": "2024-11-04T23:27:21.723685Z"
        },
        "colab": {
          "base_uri": "https://localhost:8080/"
        },
        "id": "NKiOX-oGkL2X",
        "outputId": "83d99eef-5079-4a43-85af-eae52889edbc"
      },
      "outputs": [
        {
          "output_type": "stream",
          "name": "stdout",
          "text": [
            "tensor([ 7,  9, 11, 13, 15]) tensor([ 7,  9, 11, 13, 15])\n"
          ]
        }
      ],
      "execution_count": 21
    },
    {
      "cell_type": "code",
      "source": [
        "# subtraction\n",
        "r1 = a-b\n",
        "r2 = torch.sub(a,b)\n",
        "print(r1, r2)"
      ],
      "metadata": {
        "trusted": true,
        "execution": {
          "iopub.status.busy": "2024-11-04T23:27:52.015949Z",
          "iopub.execute_input": "2024-11-04T23:27:52.01646Z",
          "iopub.status.idle": "2024-11-04T23:27:52.025701Z",
          "shell.execute_reply.started": "2024-11-04T23:27:52.01641Z",
          "shell.execute_reply": "2024-11-04T23:27:52.024207Z"
        },
        "colab": {
          "base_uri": "https://localhost:8080/"
        },
        "id": "8JKIejXakL2X",
        "outputId": "96caa312-f954-4693-9536-01e1b85a51ae"
      },
      "outputs": [
        {
          "output_type": "stream",
          "name": "stdout",
          "text": [
            "tensor([-5, -5, -5, -5, -5]) tensor([-5, -5, -5, -5, -5])\n"
          ]
        }
      ],
      "execution_count": 22
    },
    {
      "cell_type": "code",
      "source": [
        "# multiply\n",
        "r1 = a*b\n",
        "r2 = torch.mul(a,b)\n",
        "print(r1, r2)"
      ],
      "metadata": {
        "trusted": true,
        "execution": {
          "iopub.status.busy": "2024-11-04T23:28:15.746446Z",
          "iopub.execute_input": "2024-11-04T23:28:15.746958Z",
          "iopub.status.idle": "2024-11-04T23:28:15.755416Z",
          "shell.execute_reply.started": "2024-11-04T23:28:15.746912Z",
          "shell.execute_reply": "2024-11-04T23:28:15.754067Z"
        },
        "colab": {
          "base_uri": "https://localhost:8080/"
        },
        "id": "1wy5cjZBkL2Y",
        "outputId": "6c9a2f4d-5869-4550-cbbe-8d9a63d76cd6"
      },
      "outputs": [
        {
          "output_type": "stream",
          "name": "stdout",
          "text": [
            "tensor([ 6, 14, 24, 36, 50]) tensor([ 6, 14, 24, 36, 50])\n"
          ]
        }
      ],
      "execution_count": 23
    },
    {
      "cell_type": "code",
      "source": [
        "# division\n",
        "r1 = a/b\n",
        "r2 = torch.div(a,b)\n",
        "print(r1, r2)"
      ],
      "metadata": {
        "trusted": true,
        "execution": {
          "iopub.status.busy": "2024-11-04T23:28:53.390007Z",
          "iopub.execute_input": "2024-11-04T23:28:53.390508Z",
          "iopub.status.idle": "2024-11-04T23:28:53.401028Z",
          "shell.execute_reply.started": "2024-11-04T23:28:53.390443Z",
          "shell.execute_reply": "2024-11-04T23:28:53.399107Z"
        },
        "colab": {
          "base_uri": "https://localhost:8080/"
        },
        "id": "HVSLBiFUkL2Y",
        "outputId": "5bbcb382-4dbe-4d3c-8633-d061119d15fc"
      },
      "outputs": [
        {
          "output_type": "stream",
          "name": "stdout",
          "text": [
            "tensor([0.1667, 0.2857, 0.3750, 0.4444, 0.5000]) tensor([0.1667, 0.2857, 0.3750, 0.4444, 0.5000])\n"
          ]
        }
      ],
      "execution_count": 24
    },
    {
      "cell_type": "code",
      "source": [
        "# remainder\n",
        "r1 = a%b\n",
        "r2 = torch.remainder(a,b)\n",
        "print(r1, r2)"
      ],
      "metadata": {
        "trusted": true,
        "execution": {
          "iopub.status.busy": "2024-11-04T23:29:29.784577Z",
          "iopub.execute_input": "2024-11-04T23:29:29.785113Z",
          "iopub.status.idle": "2024-11-04T23:29:29.79419Z",
          "shell.execute_reply.started": "2024-11-04T23:29:29.785069Z",
          "shell.execute_reply": "2024-11-04T23:29:29.792762Z"
        },
        "colab": {
          "base_uri": "https://localhost:8080/"
        },
        "id": "XypWvJGAkL2Y",
        "outputId": "40248f3a-231d-487a-8374-26b9cb40b46b"
      },
      "outputs": [
        {
          "output_type": "stream",
          "name": "stdout",
          "text": [
            "tensor([1, 2, 3, 4, 5]) tensor([1, 2, 3, 4, 5])\n"
          ]
        }
      ],
      "execution_count": 25
    },
    {
      "cell_type": "code",
      "source": [
        " # Pow\n",
        "a = torch.tensor([1,2,3,4,5])\n",
        "b = torch.tensor([2,2,2,0.5, 2])\n",
        "\n",
        "a**b\n",
        "torch.pow(a,b)"
      ],
      "metadata": {
        "trusted": true,
        "execution": {
          "iopub.status.busy": "2024-11-04T23:31:46.027103Z",
          "iopub.execute_input": "2024-11-04T23:31:46.027676Z",
          "iopub.status.idle": "2024-11-04T23:31:46.039404Z",
          "shell.execute_reply.started": "2024-11-04T23:31:46.027627Z",
          "shell.execute_reply": "2024-11-04T23:31:46.038019Z"
        },
        "colab": {
          "base_uri": "https://localhost:8080/"
        },
        "id": "Fu8qRbaBkL2Y",
        "outputId": "7a75c872-5952-415e-bb0b-c9f9d397d164"
      },
      "outputs": [
        {
          "output_type": "execute_result",
          "data": {
            "text/plain": [
              "tensor([ 1.,  4.,  9.,  2., 25.])"
            ]
          },
          "metadata": {},
          "execution_count": 28
        }
      ],
      "execution_count": 28
    },
    {
      "cell_type": "code",
      "source": [
        "# SHORTHAND\n",
        "a = torch.tensor([1,2,3,4,5])\n",
        "b = torch.tensor([6,7,8,9,10])\n",
        "a.add_(b)"
      ],
      "metadata": {
        "trusted": true,
        "execution": {
          "iopub.status.busy": "2024-11-04T23:35:49.855429Z",
          "iopub.execute_input": "2024-11-04T23:35:49.855986Z",
          "iopub.status.idle": "2024-11-04T23:35:49.870108Z",
          "shell.execute_reply.started": "2024-11-04T23:35:49.855929Z",
          "shell.execute_reply": "2024-11-04T23:35:49.868509Z"
        },
        "colab": {
          "base_uri": "https://localhost:8080/"
        },
        "id": "A9F9QgqQkL2Y",
        "outputId": "efde9a56-7722-4eac-8bf2-6671b272d6c2"
      },
      "outputs": [
        {
          "output_type": "execute_result",
          "data": {
            "text/plain": [
              "tensor([ 7,  9, 11, 13, 15])"
            ]
          },
          "metadata": {},
          "execution_count": 27
        }
      ],
      "execution_count": 27
    }
  ]
}
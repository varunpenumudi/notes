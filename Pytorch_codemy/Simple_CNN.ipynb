{
  "cells": [
    {
      "cell_type": "markdown",
      "metadata": {
        "id": "view-in-github",
        "colab_type": "text"
      },
      "source": [
        "<a href=\"https://colab.research.google.com/github/varunpenumudi/notes/blob/master/Pytorch_codemy/Simple_CNN.ipynb\" target=\"_parent\"><img src=\"https://colab.research.google.com/assets/colab-badge.svg\" alt=\"Open In Colab\"/></a>"
      ]
    },
    {
      "cell_type": "code",
      "execution_count": 1,
      "metadata": {
        "id": "OpvLrmO3xsM2"
      },
      "outputs": [],
      "source": [
        "import torch\n",
        "import torch.nn as nn\n",
        "import torch.nn.functional as F\n",
        "from torch.utils.data import DataLoader\n",
        "\n",
        "# To import MNIST from datasets\n",
        "from torchvision import datasets, transforms\n",
        "from torchvision.utils import make_grid\n",
        "\n",
        "# numpy and pandas for working with data\n",
        "import numpy as np\n",
        "import pandas as pd\n",
        "\n",
        "# For Plotting Confusion Matrix of Model\n",
        "from sklearn.metrics import confusion_matrix\n",
        "\n",
        "# plot some graphs for data\n",
        "import matplotlib.pyplot as plt\n",
        "%matplotlib inline"
      ]
    },
    {
      "cell_type": "markdown",
      "metadata": {
        "id": "c7FTIrwu19OC"
      },
      "source": [
        "# Get Train and Test Data"
      ]
    },
    {
      "cell_type": "code",
      "execution_count": 2,
      "metadata": {
        "id": "pXRir5oMyk4R"
      },
      "outputs": [],
      "source": [
        "# Transform to Convert MNIST Images to (4D) Tensor  (# of images, Height, Width, Color Channel)\n",
        "transform = transforms.ToTensor()"
      ]
    },
    {
      "cell_type": "code",
      "execution_count": 3,
      "metadata": {
        "colab": {
          "base_uri": "https://localhost:8080/"
        },
        "collapsed": true,
        "id": "TNEmBT3qy8nZ",
        "outputId": "ae9271b8-277a-4c17-8082-305b627c50f6"
      },
      "outputs": [
        {
          "output_type": "stream",
          "name": "stdout",
          "text": [
            "Downloading http://yann.lecun.com/exdb/mnist/train-images-idx3-ubyte.gz\n",
            "Failed to download (trying next):\n",
            "HTTP Error 403: Forbidden\n",
            "\n",
            "Downloading https://ossci-datasets.s3.amazonaws.com/mnist/train-images-idx3-ubyte.gz\n",
            "Downloading https://ossci-datasets.s3.amazonaws.com/mnist/train-images-idx3-ubyte.gz to /cnn_data/MNIST/raw/train-images-idx3-ubyte.gz\n"
          ]
        },
        {
          "output_type": "stream",
          "name": "stderr",
          "text": [
            "100%|██████████| 9.91M/9.91M [00:00<00:00, 50.8MB/s]\n"
          ]
        },
        {
          "output_type": "stream",
          "name": "stdout",
          "text": [
            "Extracting /cnn_data/MNIST/raw/train-images-idx3-ubyte.gz to /cnn_data/MNIST/raw\n",
            "\n",
            "Downloading http://yann.lecun.com/exdb/mnist/train-labels-idx1-ubyte.gz\n",
            "Failed to download (trying next):\n",
            "HTTP Error 403: Forbidden\n",
            "\n",
            "Downloading https://ossci-datasets.s3.amazonaws.com/mnist/train-labels-idx1-ubyte.gz\n",
            "Downloading https://ossci-datasets.s3.amazonaws.com/mnist/train-labels-idx1-ubyte.gz to /cnn_data/MNIST/raw/train-labels-idx1-ubyte.gz\n"
          ]
        },
        {
          "output_type": "stream",
          "name": "stderr",
          "text": [
            "100%|██████████| 28.9k/28.9k [00:00<00:00, 1.86MB/s]"
          ]
        },
        {
          "output_type": "stream",
          "name": "stdout",
          "text": [
            "Extracting /cnn_data/MNIST/raw/train-labels-idx1-ubyte.gz to /cnn_data/MNIST/raw\n",
            "\n",
            "Downloading http://yann.lecun.com/exdb/mnist/t10k-images-idx3-ubyte.gz\n"
          ]
        },
        {
          "output_type": "stream",
          "name": "stderr",
          "text": [
            "\n"
          ]
        },
        {
          "output_type": "stream",
          "name": "stdout",
          "text": [
            "Failed to download (trying next):\n",
            "HTTP Error 403: Forbidden\n",
            "\n",
            "Downloading https://ossci-datasets.s3.amazonaws.com/mnist/t10k-images-idx3-ubyte.gz\n",
            "Downloading https://ossci-datasets.s3.amazonaws.com/mnist/t10k-images-idx3-ubyte.gz to /cnn_data/MNIST/raw/t10k-images-idx3-ubyte.gz\n"
          ]
        },
        {
          "output_type": "stream",
          "name": "stderr",
          "text": [
            "100%|██████████| 1.65M/1.65M [00:00<00:00, 7.39MB/s]\n"
          ]
        },
        {
          "output_type": "stream",
          "name": "stdout",
          "text": [
            "Extracting /cnn_data/MNIST/raw/t10k-images-idx3-ubyte.gz to /cnn_data/MNIST/raw\n",
            "\n",
            "Downloading http://yann.lecun.com/exdb/mnist/t10k-labels-idx1-ubyte.gz\n",
            "Failed to download (trying next):\n",
            "HTTP Error 403: Forbidden\n",
            "\n",
            "Downloading https://ossci-datasets.s3.amazonaws.com/mnist/t10k-labels-idx1-ubyte.gz\n",
            "Downloading https://ossci-datasets.s3.amazonaws.com/mnist/t10k-labels-idx1-ubyte.gz to /cnn_data/MNIST/raw/t10k-labels-idx1-ubyte.gz\n"
          ]
        },
        {
          "output_type": "stream",
          "name": "stderr",
          "text": [
            "100%|██████████| 4.54k/4.54k [00:00<00:00, 7.83MB/s]"
          ]
        },
        {
          "output_type": "stream",
          "name": "stdout",
          "text": [
            "Extracting /cnn_data/MNIST/raw/t10k-labels-idx1-ubyte.gz to /cnn_data/MNIST/raw\n",
            "\n"
          ]
        },
        {
          "output_type": "stream",
          "name": "stderr",
          "text": [
            "\n"
          ]
        }
      ],
      "source": [
        "# Get Train Data\n",
        "train_data = datasets.MNIST(root=\"/cnn_data\", train=True, download=True, transform=transform)"
      ]
    },
    {
      "cell_type": "code",
      "execution_count": 4,
      "metadata": {
        "collapsed": true,
        "id": "KBpTrXYZ0mlr"
      },
      "outputs": [],
      "source": [
        "# Test Data\n",
        "test_data = datasets.MNIST(root=\"/cnn_data\", train=False, download=True, transform=transform)"
      ]
    },
    {
      "cell_type": "code",
      "execution_count": 5,
      "metadata": {
        "colab": {
          "base_uri": "https://localhost:8080/"
        },
        "id": "ToVN3g4T1C5-",
        "outputId": "3d0ea4aa-c6b3-4182-b049-a1063b32593b"
      },
      "outputs": [
        {
          "output_type": "execute_result",
          "data": {
            "text/plain": [
              "Dataset MNIST\n",
              "    Number of datapoints: 60000\n",
              "    Root location: /cnn_data\n",
              "    Split: Train\n",
              "    StandardTransform\n",
              "Transform: ToTensor()"
            ]
          },
          "metadata": {},
          "execution_count": 5
        }
      ],
      "source": [
        "train_data"
      ]
    },
    {
      "cell_type": "code",
      "execution_count": 6,
      "metadata": {
        "colab": {
          "base_uri": "https://localhost:8080/"
        },
        "id": "4UtaiKup1Eyz",
        "outputId": "b1802eb9-19e4-4937-a4c4-ea46d2871d67"
      },
      "outputs": [
        {
          "output_type": "execute_result",
          "data": {
            "text/plain": [
              "Dataset MNIST\n",
              "    Number of datapoints: 10000\n",
              "    Root location: /cnn_data\n",
              "    Split: Test\n",
              "    StandardTransform\n",
              "Transform: ToTensor()"
            ]
          },
          "metadata": {},
          "execution_count": 6
        }
      ],
      "source": [
        "test_data"
      ]
    },
    {
      "cell_type": "code",
      "execution_count": 7,
      "metadata": {
        "id": "8-ArMDP81r2A"
      },
      "outputs": [],
      "source": [
        "# DataLoaders for loading train and test data in batches\n",
        "train_loader = DataLoader(train_data, batch_size=10, shuffle=True)\n",
        "test_loader = DataLoader(test_data, batch_size=10, shuffle=False)    # no need to shuffle the test data"
      ]
    },
    {
      "cell_type": "markdown",
      "source": [
        "# How the Layers Works in CNN"
      ],
      "metadata": {
        "id": "i3wyCsiRnR-Z"
      }
    },
    {
      "cell_type": "code",
      "execution_count": 8,
      "metadata": {
        "id": "-ZV3iXzPQRr0"
      },
      "outputs": [],
      "source": [
        "# How the Convolutional Layer Works?\n",
        "\n",
        "conv1 = nn.Conv2d(in_channels=1, out_channels=6, kernel_size=3, stride=1)   # 1 Images -> 6 Images\n",
        "conv2 = nn.Conv2d(in_channels=6, out_channels=16, kernel_size=3, stride=1)  # 6 Images -> 16 Images"
      ]
    },
    {
      "cell_type": "code",
      "execution_count": 9,
      "metadata": {
        "id": "_49fDvmjSSFp"
      },
      "outputs": [],
      "source": [
        "# Grab 1 MNIST record/image\n",
        "for i, (X_train, y_train) in enumerate(train_data):\n",
        "    break"
      ]
    },
    {
      "cell_type": "code",
      "execution_count": 10,
      "metadata": {
        "colab": {
          "base_uri": "https://localhost:8080/"
        },
        "id": "3MkRuVyA_XbZ",
        "outputId": "96f78dd3-5aa8-4d2a-8b73-9bc055cc8c7a"
      },
      "outputs": [
        {
          "output_type": "execute_result",
          "data": {
            "text/plain": [
              "torch.Size([1, 28, 28])"
            ]
          },
          "metadata": {},
          "execution_count": 10
        }
      ],
      "source": [
        "X_train.shape # a image of size 28 x 28"
      ]
    },
    {
      "cell_type": "code",
      "execution_count": 11,
      "metadata": {
        "id": "o5x3PTHJ_hUa"
      },
      "outputs": [],
      "source": [
        "x = X_train.view(1,1,28, 28)"
      ]
    },
    {
      "cell_type": "code",
      "source": [
        "# Perform first Convolution\n",
        "x = F.relu(conv1(x))\n",
        "x.shape"
      ],
      "metadata": {
        "colab": {
          "base_uri": "https://localhost:8080/"
        },
        "id": "a81oygBNqBBp",
        "outputId": "c0ec0d35-9e02-486d-e084-cca418658f59"
      },
      "execution_count": 12,
      "outputs": [
        {
          "output_type": "execute_result",
          "data": {
            "text/plain": [
              "torch.Size([1, 6, 26, 26])"
            ]
          },
          "metadata": {},
          "execution_count": 12
        }
      ]
    },
    {
      "cell_type": "code",
      "source": [
        "# Perform first Pooling\n",
        "x = F.max_pool2d(x, 2, 2) # images, kernel, stride\n",
        "x.shape"
      ],
      "metadata": {
        "colab": {
          "base_uri": "https://localhost:8080/"
        },
        "id": "4Ooq0exQrHeA",
        "outputId": "0d307eaf-1858-4e8f-cca0-55960c1e65dc"
      },
      "execution_count": 13,
      "outputs": [
        {
          "output_type": "execute_result",
          "data": {
            "text/plain": [
              "torch.Size([1, 6, 13, 13])"
            ]
          },
          "metadata": {},
          "execution_count": 13
        }
      ]
    },
    {
      "cell_type": "code",
      "source": [
        "# Perform Second Convolution\n",
        "x = F.relu(conv2(x))\n",
        "x.shape"
      ],
      "metadata": {
        "colab": {
          "base_uri": "https://localhost:8080/"
        },
        "id": "Q-EadLl_rWdE",
        "outputId": "ffc4974b-85f5-4685-b499-2776a10b037d"
      },
      "execution_count": 14,
      "outputs": [
        {
          "output_type": "execute_result",
          "data": {
            "text/plain": [
              "torch.Size([1, 16, 11, 11])"
            ]
          },
          "metadata": {},
          "execution_count": 14
        }
      ]
    },
    {
      "cell_type": "code",
      "source": [
        "# Second Pooling\n",
        "x = F.max_pool2d(x, 2, 2)\n",
        "x.shape"
      ],
      "metadata": {
        "colab": {
          "base_uri": "https://localhost:8080/"
        },
        "id": "pO_gsFjNrz5u",
        "outputId": "a8004671-9a66-40bd-c2c6-82e872d28cdc"
      },
      "execution_count": 15,
      "outputs": [
        {
          "output_type": "execute_result",
          "data": {
            "text/plain": [
              "torch.Size([1, 16, 5, 5])"
            ]
          },
          "metadata": {},
          "execution_count": 15
        }
      ]
    },
    {
      "cell_type": "markdown",
      "source": [
        "# First CNN Model"
      ],
      "metadata": {
        "id": "9hMgcM2EtkyX"
      }
    },
    {
      "cell_type": "code",
      "source": [
        "# Model Class\n",
        "class SimpleCNN(nn.Module):\n",
        "    def __init__(self):\n",
        "        super().__init__()\n",
        "\n",
        "        # Convolutional Layers\n",
        "        self.conv1 = nn.Conv2d(1, 6, 3, 1)\n",
        "        self.conv2 = nn.Conv2d(6, 16, 3, 1)\n",
        "\n",
        "        # Fully connected Layers\n",
        "        self.fc1 = nn.Linear(16*5*5, 120)\n",
        "        self.fc2 = nn.Linear(120, 84)\n",
        "        self.fc3 = nn.Linear(84, 10)\n",
        "\n",
        "    def forward(self, X):\n",
        "\n",
        "        # Convolutional Layers\n",
        "        X = F.relu(self.conv1(X)) # 1 Images (28*28)   -> 6 Images (26*26)\n",
        "        X = F.max_pool2d(X, 2, 2) # 6 Images (26*26)  -> 6 Images(13*13)\n",
        "        X = F.relu(self.conv2(X)) # 6 Images (13*13)  -> 16 Images(11*11)\n",
        "        X = F.max_pool2d(X, 2, 2) # 16 Images (11*11) -> 16 Images(5*5)\n",
        "\n",
        "        # Flatten Image Data\n",
        "        X = X.view(-1, 16*5*5)\n",
        "\n",
        "        # Fully Connected Layers\n",
        "        X = F.relu(self.fc1(X))\n",
        "        X = F.relu(self.fc2(X))\n",
        "        X = self.fc3(X)\n",
        "\n",
        "        return F.log_softmax(X, dim=1)"
      ],
      "metadata": {
        "id": "WZNnHQ_xtjy_"
      },
      "execution_count": 16,
      "outputs": []
    },
    {
      "cell_type": "code",
      "source": [
        "torch.manual_seed(101)\n",
        "model = SimpleCNN()\n",
        "model"
      ],
      "metadata": {
        "colab": {
          "base_uri": "https://localhost:8080/"
        },
        "id": "2Batc7R8w0Fk",
        "outputId": "24fd5095-3f3a-47f2-af3c-92fe390b9967"
      },
      "execution_count": 17,
      "outputs": [
        {
          "output_type": "execute_result",
          "data": {
            "text/plain": [
              "SimpleCNN(\n",
              "  (conv1): Conv2d(1, 6, kernel_size=(3, 3), stride=(1, 1))\n",
              "  (conv2): Conv2d(6, 16, kernel_size=(3, 3), stride=(1, 1))\n",
              "  (fc1): Linear(in_features=400, out_features=120, bias=True)\n",
              "  (fc2): Linear(in_features=120, out_features=84, bias=True)\n",
              "  (fc3): Linear(in_features=84, out_features=10, bias=True)\n",
              ")"
            ]
          },
          "metadata": {},
          "execution_count": 17
        }
      ]
    },
    {
      "cell_type": "code",
      "source": [
        "# Loss Function\n",
        "criterion = nn.CrossEntropyLoss()\n",
        "optimizer = torch.optim.Adam(model.parameters(), lr=0.001) # Learn Slowly"
      ],
      "metadata": {
        "id": "wpNrwxKAw6oM"
      },
      "execution_count": 18,
      "outputs": []
    },
    {
      "cell_type": "markdown",
      "source": [
        "# Train and Test CNN Model"
      ],
      "metadata": {
        "id": "YIW9z_DyxlT9"
      }
    },
    {
      "cell_type": "code",
      "source": [
        "import time\n",
        "start_time = time.time()\n",
        "\n",
        "# Create Variables to Track Things\n",
        "epochs = 5\n",
        "train_losses = []\n",
        "test_losses = []\n",
        "train_correct = []\n",
        "test_correct = []\n",
        "\n",
        "\n",
        "# For Loop for Epochs\n",
        "for i in range(epochs):\n",
        "    train_corr = 0\n",
        "    test_corr = 0\n",
        "\n",
        "    # Train\n",
        "    for b, (X_train, y_train) in enumerate(train_loader):\n",
        "        b += 1\n",
        "        y_pred = model(X_train)\n",
        "        loss = criterion(y_pred, y_train)\n",
        "\n",
        "        predicted = torch.max(y_pred.data, 1)[1]\n",
        "        batch_corr = (predicted == y_train).sum()\n",
        "\n",
        "        train_corr += batch_corr\n",
        "\n",
        "        # Update our parameters\n",
        "        optimizer.zero_grad()\n",
        "        loss.backward()\n",
        "        optimizer.step()\n",
        "\n",
        "        # Print out some results\n",
        "        if b%600 == 0:\n",
        "            print(f\"Epoch: {i}  Batch: {b}  Loss: {loss.item()}\")\n",
        "\n",
        "    train_losses.append(loss)\n",
        "    train_correct.append(train_corr)\n",
        "\n",
        "    # Test\n",
        "    with torch.no_grad():\n",
        "        for b, (X_test, y_test) in enumerate(test_loader):\n",
        "            y_val = model(X_test)\n",
        "            pred = torch.max(y_val.data, 1)[1]\n",
        "\n",
        "            batch_corr = (pred == y_test).sum()\n",
        "            test_corr += batch_corr\n",
        "\n",
        "    loss = criterion(y_val, y_test)\n",
        "    test_losses.append(loss)\n",
        "    test_correct.append(test_corr)\n",
        "\n",
        "\n",
        "\n",
        "cur_time = time.time()\n",
        "total_time = cur_time-start_time\n",
        "print(f\"Training Took: {total_time/60} minutes!\")"
      ],
      "metadata": {
        "colab": {
          "base_uri": "https://localhost:8080/"
        },
        "id": "69VOEavqyFAO",
        "outputId": "5745cc82-aee0-4838-9bee-625d7d016bb9"
      },
      "execution_count": 19,
      "outputs": [
        {
          "output_type": "stream",
          "name": "stdout",
          "text": [
            "Epoch: 0  Batch: 600  Loss: 0.27714279294013977\n",
            "Epoch: 0  Batch: 1200  Loss: 0.05869954079389572\n",
            "Epoch: 0  Batch: 1800  Loss: 0.14001299440860748\n",
            "Epoch: 0  Batch: 2400  Loss: 0.14789725840091705\n",
            "Epoch: 0  Batch: 3000  Loss: 0.015575326979160309\n",
            "Epoch: 0  Batch: 3600  Loss: 0.011459420435130596\n",
            "Epoch: 0  Batch: 4200  Loss: 0.009168890304863453\n",
            "Epoch: 0  Batch: 4800  Loss: 0.00417522294446826\n",
            "Epoch: 0  Batch: 5400  Loss: 0.002396020805463195\n",
            "Epoch: 0  Batch: 6000  Loss: 0.003313155844807625\n",
            "Epoch: 1  Batch: 600  Loss: 0.02910645864903927\n",
            "Epoch: 1  Batch: 1200  Loss: 0.09715400636196136\n",
            "Epoch: 1  Batch: 1800  Loss: 0.0060613942332565784\n",
            "Epoch: 1  Batch: 2400  Loss: 0.022610651329159737\n",
            "Epoch: 1  Batch: 3000  Loss: 0.04838515818119049\n",
            "Epoch: 1  Batch: 3600  Loss: 0.005749894306063652\n",
            "Epoch: 1  Batch: 4200  Loss: 0.25272902846336365\n",
            "Epoch: 1  Batch: 4800  Loss: 0.0002936680684797466\n",
            "Epoch: 1  Batch: 5400  Loss: 0.24952879548072815\n",
            "Epoch: 1  Batch: 6000  Loss: 0.012904241681098938\n",
            "Epoch: 2  Batch: 600  Loss: 0.09780608117580414\n",
            "Epoch: 2  Batch: 1200  Loss: 0.000963487836997956\n",
            "Epoch: 2  Batch: 1800  Loss: 0.001141245593316853\n",
            "Epoch: 2  Batch: 2400  Loss: 0.5337463021278381\n",
            "Epoch: 2  Batch: 3000  Loss: 0.15846773982048035\n",
            "Epoch: 2  Batch: 3600  Loss: 0.008188484236598015\n",
            "Epoch: 2  Batch: 4200  Loss: 0.004836753010749817\n",
            "Epoch: 2  Batch: 4800  Loss: 0.00897577777504921\n",
            "Epoch: 2  Batch: 5400  Loss: 0.0001601819385541603\n",
            "Epoch: 2  Batch: 6000  Loss: 0.0001314394612563774\n",
            "Epoch: 3  Batch: 600  Loss: 0.07603722810745239\n",
            "Epoch: 3  Batch: 1200  Loss: 0.005416658706963062\n",
            "Epoch: 3  Batch: 1800  Loss: 0.0011215140111744404\n",
            "Epoch: 3  Batch: 2400  Loss: 0.0004221698618493974\n",
            "Epoch: 3  Batch: 3000  Loss: 0.0001278524287045002\n",
            "Epoch: 3  Batch: 3600  Loss: 0.003991600126028061\n",
            "Epoch: 3  Batch: 4200  Loss: 0.0018084824550896883\n",
            "Epoch: 3  Batch: 4800  Loss: 0.0001184260836453177\n",
            "Epoch: 3  Batch: 5400  Loss: 0.00017918934463523328\n",
            "Epoch: 3  Batch: 6000  Loss: 0.00581152830272913\n",
            "Epoch: 4  Batch: 600  Loss: 0.013489854522049427\n",
            "Epoch: 4  Batch: 1200  Loss: 0.0009752374025993049\n",
            "Epoch: 4  Batch: 1800  Loss: 0.0187067948281765\n",
            "Epoch: 4  Batch: 2400  Loss: 0.0025625289417803288\n",
            "Epoch: 4  Batch: 3000  Loss: 0.007703062146902084\n",
            "Epoch: 4  Batch: 3600  Loss: 0.00043635969632305205\n",
            "Epoch: 4  Batch: 4200  Loss: 9.397775284014642e-05\n",
            "Epoch: 4  Batch: 4800  Loss: 0.009405107237398624\n",
            "Epoch: 4  Batch: 5400  Loss: 0.0010741250589489937\n",
            "Epoch: 4  Batch: 6000  Loss: 0.0018804275896400213\n",
            "Training Took: 4.234251749515534 minutes!\n"
          ]
        }
      ]
    },
    {
      "cell_type": "markdown",
      "source": [
        "# Graph CNN Results"
      ],
      "metadata": {
        "id": "lBwfFp6_35iz"
      }
    },
    {
      "cell_type": "code",
      "source": [
        "plt.plot([t.item() for t in train_losses], label=\"Train Loss\")\n",
        "plt.plot(test_losses, label=\"Test Loss\")\n",
        "plt.title(\"Loss at Each Epoch\")\n",
        "plt.legend()"
      ],
      "metadata": {
        "colab": {
          "base_uri": "https://localhost:8080/",
          "height": 469
        },
        "id": "Egp3MX54yw55",
        "outputId": "ed22b48c-11ac-41e4-8486-250fece6f703"
      },
      "execution_count": 20,
      "outputs": [
        {
          "output_type": "execute_result",
          "data": {
            "text/plain": [
              "<matplotlib.legend.Legend at 0x7c58ab02e740>"
            ]
          },
          "metadata": {},
          "execution_count": 20
        },
        {
          "output_type": "display_data",
          "data": {
            "text/plain": [
              "<Figure size 640x480 with 1 Axes>"
            ],
            "image/png": "[encoded data removed]"
          },
          "metadata": {}
        }
      ]
    },
    {
      "cell_type": "code",
      "source": [
        "plt.plot([t/600 for t in train_correct], label=\"Train Accuracy\")\n",
        "plt.plot([t/100 for t in test_correct], label=\"Test Accuracy\")\n",
        "plt.title(\"Accuracy at Each Epoch\")\n",
        "plt.legend()"
      ],
      "metadata": {
        "colab": {
          "base_uri": "https://localhost:8080/",
          "height": 469
        },
        "id": "U6eo6oKg5qKP",
        "outputId": "36eb5f3c-f0f6-47a9-cfe2-62ed10db2998"
      },
      "execution_count": 21,
      "outputs": [
        {
          "output_type": "execute_result",
          "data": {
            "text/plain": [
              "<matplotlib.legend.Legend at 0x7c58a9c51780>"
            ]
          },
          "metadata": {},
          "execution_count": 21
        },
        {
          "output_type": "display_data",
          "data": {
            "text/plain": [
              "<Figure size 640x480 with 1 Axes>"
            ],
            "image/png": "[encoded data removed]"
          },
          "metadata": {}
        }
      ]
    },
    {
      "cell_type": "code",
      "source": [
        "test_load_everything = DataLoader(test_data, 10000, False)"
      ],
      "metadata": {
        "id": "g7i2kFRq4C2t"
      },
      "execution_count": 22,
      "outputs": []
    },
    {
      "cell_type": "code",
      "source": [
        "with torch.no_grad():\n",
        "    correct = 0\n",
        "    for X_test, y_test in test_load_everything:\n",
        "        y_val = model(X_test)\n",
        "        pred = torch.max(y_val.data, 1)[1]\n",
        "        correct += (pred == y_test).sum()"
      ],
      "metadata": {
        "id": "JnzCvdzA4WJu"
      },
      "execution_count": 23,
      "outputs": []
    },
    {
      "cell_type": "code",
      "source": [
        "correct.item()/len(test_data)"
      ],
      "metadata": {
        "colab": {
          "base_uri": "https://localhost:8080/"
        },
        "id": "YnVlM5Y35GHN",
        "outputId": "7bbff92a-d177-4d32-dd2c-9d4fe2f08ee3"
      },
      "execution_count": 31,
      "outputs": [
        {
          "output_type": "execute_result",
          "data": {
            "text/plain": [
              "0.9857"
            ]
          },
          "metadata": {},
          "execution_count": 31
        }
      ]
    },
    {
      "cell_type": "markdown",
      "source": [
        "# New Image Through Model"
      ],
      "metadata": {
        "id": "6f1EBdIB8SKp"
      }
    },
    {
      "cell_type": "code",
      "source": [
        "image = test_data[100][0]\n",
        "plt.imshow(image.view(28, 28), cmap='gray')"
      ],
      "metadata": {
        "colab": {
          "base_uri": "https://localhost:8080/",
          "height": 447
        },
        "id": "AJPLf-rh5Mj6",
        "outputId": "3c1dde45-657d-424d-8707-0fa799335210"
      },
      "execution_count": 46,
      "outputs": [
        {
          "output_type": "execute_result",
          "data": {
            "text/plain": [
              "<matplotlib.image.AxesImage at 0x7c58aabac040>"
            ]
          },
          "metadata": {},
          "execution_count": 46
        },
        {
          "output_type": "display_data",
          "data": {
            "text/plain": [
              "<Figure size 640x480 with 1 Axes>"
            ],
            "image/png": "[encoded data removed]"
          },
          "metadata": {}
        }
      ]
    },
    {
      "cell_type": "code",
      "source": [
        "with torch.no_grad():\n",
        "    res = model(image.view(1,1,28,28))\n",
        "res.argmax()"
      ],
      "metadata": {
        "colab": {
          "base_uri": "https://localhost:8080/"
        },
        "id": "qJhT9f2r6EQF",
        "outputId": "92ddb460-daa2-4bc4-93cb-7750325685c8"
      },
      "execution_count": 49,
      "outputs": [
        {
          "output_type": "execute_result",
          "data": {
            "text/plain": [
              "tensor(6)"
            ]
          },
          "metadata": {},
          "execution_count": 49
        }
      ]
    }
  ],
  "metadata": {
    "colab": {
      "provenance": [],
      "authorship_tag": "ABX9TyPj4dDULvgZeiqWle6Wo6yZ",
      "include_colab_link": true
    },
    "kernelspec": {
      "display_name": "Python 3",
      "name": "python3"
    },
    "language_info": {
      "name": "python"
    }
  },
  "nbformat": 4,
  "nbformat_minor": 0
}
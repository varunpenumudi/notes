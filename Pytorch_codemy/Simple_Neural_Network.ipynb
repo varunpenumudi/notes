{
  "nbformat": 4,
  "nbformat_minor": 0,
  "metadata": {
    "colab": {
      "provenance": [],
      "gpuType": "T4",
      "authorship_tag": "ABX9TyN2b+NjnQZbNUuqVIRvxDHN",
      "include_colab_link": true
    },
    "kernelspec": {
      "name": "python3",
      "display_name": "Python 3"
    },
    "language_info": {
      "name": "python"
    },
    "accelerator": "GPU"
  },
  "cells": [
    {
      "cell_type": "markdown",
      "metadata": {
        "id": "view-in-github",
        "colab_type": "text"
      },
      "source": [
        "<a href=\"https://colab.research.google.com/github/varunpenumudi/notes/blob/master/Pytorch_codemy/Simple_Neural_Network.ipynb\" target=\"_parent\"><img src=\"https://colab.research.google.com/assets/colab-badge.svg\" alt=\"Open In Colab\"/></a>"
      ]
    },
    {
      "cell_type": "code",
      "execution_count": 1,
      "metadata": {
        "id": "kjHiPthfmZP1"
      },
      "outputs": [],
      "source": [
        "import torch\n",
        "import torch.nn as nn\n",
        "import torch.nn.functional as F"
      ]
    },
    {
      "cell_type": "code",
      "source": [
        "# create a Model that inherits nn.Module\n",
        "\n",
        "class SimpleModel(nn.Module):\n",
        "    # Input layer (4 features of flower) --> Hidden Layer H1 --> Hidden Layer H2 --> Output(3 classes of flower)\n",
        "    def __init__(self, in_features=4, h1=8, h2=9, out_features=3):\n",
        "        super().__init__()\n",
        "        self.fc1 = nn.Linear(in_features, h1)\n",
        "        self.fc2 = nn.Linear(h1, h2)\n",
        "        self.out = nn.Linear(h2, out_features)\n",
        "\n",
        "    def forward(self, x):\n",
        "        x = F.relu(self.fc1(x))\n",
        "        x = F.relu(self.fc2(x))\n",
        "        x = self.out(x)\n",
        "\n",
        "        return x\n"
      ],
      "metadata": {
        "id": "MJRPxVlUCmpv"
      },
      "execution_count": 4,
      "outputs": []
    },
    {
      "cell_type": "code",
      "source": [
        "# set the random seed manually for Pytorch\n",
        "torch.manual_seed(41)\n",
        "\n",
        "# model object that is of SimpleModel Class\n",
        "model = SimpleModel()"
      ],
      "metadata": {
        "id": "13oOZFuOELni"
      },
      "execution_count": 6,
      "outputs": []
    }
  ]
}